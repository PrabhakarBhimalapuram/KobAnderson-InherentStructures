{
 "cells": [
  {
   "cell_type": "code",
   "execution_count": 5,
   "metadata": {},
   "outputs": [
    {
     "name": "stdout",
     "output_type": "stream",
     "text": [
      "/home/prabhakar/Projects/glass\n"
     ]
    }
   ],
   "source": [
    "cd ~/Projects/glass/"
   ]
  },
  {
   "cell_type": "code",
   "execution_count": 6,
   "metadata": {},
   "outputs": [
    {
     "name": "stdout",
     "output_type": "stream",
     "text": [
      "confdump.0.data      glss-displacement.ipynb     log.lammps\r\n",
      "confdump.20043.data  initconf_T05eq.data         \u001b[0m\u001b[38;5;27mmd1\u001b[0m/\r\n",
      "confdump.20045.data  initconf_T05eq.data.BKP     \u001b[38;5;27mmd2\u001b[0m/\r\n",
      "confdump.20046.data  initconf_T05eq.data.test    \u001b[38;5;27mminimize\u001b[0m/\r\n",
      "confdump.20066.data  initconf_T05eq.data.test.2\r\n",
      "confdump.80.data     ka-lj-nvt.in\r\n"
     ]
    }
   ],
   "source": [
    "ls"
   ]
  },
  {
   "cell_type": "code",
   "execution_count": 7,
   "metadata": {},
   "outputs": [
    {
     "name": "stdout",
     "output_type": "stream",
     "text": [
      "/home/prabhakar/Projects/glass/md2\n"
     ]
    }
   ],
   "source": [
    "cd md2"
   ]
  },
  {
   "cell_type": "code",
   "execution_count": 8,
   "metadata": {},
   "outputs": [
    {
     "name": "stdout",
     "output_type": "stream",
     "text": [
      "confdump.0.data        confdump.40000.data  confdump.70100.data\r\n",
      "confdump.100000.data   confdump.4000.data   confdump.70200.data\r\n",
      "confdump.10000.data    confdump.400.data    confdump.70300.data\r\n",
      "confdump.1000.data     confdump.40100.data  confdump.70400.data\r\n",
      "confdump.100.data      confdump.40200.data  confdump.70500.data\r\n",
      "confdump.10100.data    confdump.40300.data  confdump.70600.data\r\n",
      "confdump.10200.data    confdump.40400.data  confdump.70700.data\r\n",
      "confdump.10300.data    confdump.40500.data  confdump.70800.data\r\n",
      "confdump.10400.data    confdump.40600.data  confdump.70900.data\r\n",
      "confdump.10500.data    confdump.40700.data  confdump.71000.data\r\n",
      "confdump.10600.data    confdump.40800.data  confdump.7100.data\r\n",
      "confdump.10700.data    confdump.40900.data  confdump.71100.data\r\n",
      "confdump.10800.data    confdump.41000.data  confdump.71200.data\r\n",
      "confdump.10900.data    confdump.4100.data   confdump.71300.data\r\n",
      "confdump.11000.data    confdump.41100.data  confdump.71400.data\r\n",
      "confdump.1100.data     confdump.41200.data  confdump.71500.data\r\n",
      "confdump.11100.data    confdump.41300.data  confdump.71600.data\r\n",
      "confdump.11200.data    confdump.41400.data  confdump.71700.data\r\n",
      "confdump.11300.data    confdump.41500.data  confdump.71800.data\r\n",
      "confdump.11400.data    confdump.41600.data  confdump.71900.data\r\n",
      "confdump.11500.data    confdump.41700.data  confdump.72000.data\r\n",
      "confdump.11600.data    confdump.41800.data  confdump.7200.data\r\n",
      "confdump.11700.data    confdump.41900.data  confdump.72100.data\r\n",
      "confdump.11800.data    confdump.42000.data  confdump.72200.data\r\n",
      "confdump.11900.data    confdump.4200.data   confdump.72300.data\r\n",
      "confdump.12000.data    confdump.42100.data  confdump.72400.data\r\n",
      "confdump.1200.data     confdump.42200.data  confdump.72500.data\r\n",
      "confdump.12100.data    confdump.42300.data  confdump.72600.data\r\n",
      "confdump.12200.data    confdump.42400.data  confdump.72700.data\r\n",
      "confdump.12300.data    confdump.42500.data  confdump.72800.data\r\n",
      "confdump.12400.data    confdump.42600.data  confdump.72900.data\r\n",
      "confdump.12500.data    confdump.42700.data  confdump.73000.data\r\n",
      "confdump.12600.data    confdump.42800.data  confdump.7300.data\r\n",
      "confdump.12700.data    confdump.42900.data  confdump.73100.data\r\n",
      "confdump.12800.data    confdump.43000.data  confdump.73200.data\r\n",
      "confdump.12900.data    confdump.4300.data   confdump.73300.data\r\n",
      "confdump.13000.data    confdump.43100.data  confdump.73400.data\r\n",
      "confdump.1300.data     confdump.43200.data  confdump.73500.data\r\n",
      "confdump.13100.data    confdump.43300.data  confdump.73600.data\r\n",
      "confdump.13200.data    confdump.43400.data  confdump.73700.data\r\n",
      "confdump.13300.data    confdump.43500.data  confdump.73800.data\r\n",
      "confdump.13400.data    confdump.43600.data  confdump.73900.data\r\n",
      "confdump.13500.data    confdump.43700.data  confdump.74000.data\r\n",
      "confdump.13600.data    confdump.43800.data  confdump.7400.data\r\n",
      "confdump.13700.data    confdump.43900.data  confdump.74100.data\r\n",
      "confdump.13800.data    confdump.44000.data  confdump.74200.data\r\n",
      "confdump.13900.data    confdump.4400.data   confdump.74300.data\r\n",
      "confdump.14000.data    confdump.44100.data  confdump.74400.data\r\n",
      "confdump.1400.data     confdump.44200.data  confdump.74500.data\r\n",
      "confdump.14100.data    confdump.44300.data  confdump.74600.data\r\n",
      "confdump.14200.data    confdump.44400.data  confdump.74700.data\r\n",
      "confdump.14300.data    confdump.44500.data  confdump.74800.data\r\n",
      "confdump.14400.data    confdump.44600.data  confdump.74900.data\r\n",
      "confdump.14500.data    confdump.44700.data  confdump.75000.data\r\n",
      "confdump.14600.data    confdump.44800.data  confdump.7500.data\r\n",
      "confdump.14700.data    confdump.44900.data  confdump.75100.data\r\n",
      "confdump.14800.data    confdump.45000.data  confdump.75200.data\r\n",
      "confdump.14900.data    confdump.4500.data   confdump.75300.data\r\n",
      "confdump.15000.data    confdump.45100.data  confdump.75400.data\r\n",
      "confdump.1500.data     confdump.45200.data  confdump.75500.data\r\n",
      "confdump.15100.data    confdump.45300.data  confdump.75600.data\r\n",
      "confdump.15200.data    confdump.45400.data  confdump.75700.data\r\n",
      "confdump.15300.data    confdump.45500.data  confdump.75800.data\r\n",
      "confdump.15400.data    confdump.45600.data  confdump.75900.data\r\n",
      "confdump.15500.data    confdump.45700.data  confdump.76000.data\r\n",
      "confdump.15600.data    confdump.45800.data  confdump.7600.data\r\n",
      "confdump.15700.data    confdump.45900.data  confdump.76100.data\r\n",
      "confdump.15800.data    confdump.46000.data  confdump.76200.data\r\n",
      "confdump.15900.data    confdump.4600.data   confdump.76300.data\r\n",
      "confdump.16000.data    confdump.46100.data  confdump.76400.data\r\n",
      "confdump.1600.data     confdump.46200.data  confdump.76500.data\r\n",
      "confdump.16100.data    confdump.46300.data  confdump.76600.data\r\n",
      "confdump.16200.data    confdump.46400.data  confdump.76700.data\r\n",
      "confdump.16300.data    confdump.46500.data  confdump.76800.data\r\n",
      "confdump.16400.data    confdump.46600.data  confdump.76900.data\r\n",
      "confdump.16500.data    confdump.46700.data  confdump.77000.data\r\n",
      "confdump.16600.data    confdump.46800.data  confdump.7700.data\r\n",
      "confdump.16700.data    confdump.46900.data  confdump.77100.data\r\n",
      "confdump.16800.data    confdump.47000.data  confdump.77200.data\r\n",
      "confdump.16900.data    confdump.4700.data   confdump.77300.data\r\n",
      "confdump.17000.data    confdump.47100.data  confdump.77400.data\r\n",
      "confdump.1700.data     confdump.47200.data  confdump.77500.data\r\n",
      "confdump.17100.data    confdump.47300.data  confdump.77600.data\r\n",
      "confdump.17200.data    confdump.47400.data  confdump.77700.data\r\n",
      "confdump.17300.data    confdump.47500.data  confdump.77800.data\r\n",
      "confdump.17400.data    confdump.47600.data  confdump.77900.data\r\n",
      "confdump.17500.data    confdump.47700.data  confdump.78000.data\r\n",
      "confdump.17600.data    confdump.47800.data  confdump.7800.data\r\n",
      "confdump.17700.data    confdump.47900.data  confdump.78100.data\r\n",
      "confdump.17800.data    confdump.48000.data  confdump.78200.data\r\n",
      "confdump.17900.data    confdump.4800.data   confdump.78300.data\r\n",
      "confdump.18000.data    confdump.48100.data  confdump.78400.data\r\n",
      "confdump.1800.data     confdump.48200.data  confdump.78500.data\r\n",
      "confdump.18100.data    confdump.48300.data  confdump.78600.data\r\n",
      "confdump.18200.data    confdump.48400.data  confdump.78700.data\r\n",
      "confdump.18300.data    confdump.48500.data  confdump.78800.data\r\n",
      "confdump.18400.data    confdump.48600.data  confdump.78900.data\r\n",
      "confdump.18500.data    confdump.48700.data  confdump.79000.data\r\n",
      "confdump.18600.data    confdump.48800.data  confdump.7900.data\r\n",
      "confdump.18700.data    confdump.48900.data  confdump.79100.data\r\n",
      "confdump.18800.data    confdump.49000.data  confdump.79200.data\r\n",
      "confdump.18900.data    confdump.4900.data   confdump.79300.data\r\n",
      "confdump.19000.data    confdump.49100.data  confdump.79400.data\r\n",
      "confdump.1900.data     confdump.49200.data  confdump.79500.data\r\n",
      "confdump.19100.data    confdump.49300.data  confdump.79600.data\r\n",
      "confdump.19200.data    confdump.49400.data  confdump.79700.data\r\n",
      "confdump.19300.data    confdump.49500.data  confdump.79800.data\r\n",
      "confdump.19400.data    confdump.49600.data  confdump.79900.data\r\n",
      "confdump.19500.data    confdump.49700.data  confdump.80000.data\r\n",
      "confdump.19600.data    confdump.49800.data  confdump.8000.data\r\n",
      "confdump.19700.data    confdump.49900.data  confdump.800.data\r\n",
      "confdump.19800.data    confdump.50000.data  confdump.80100.data\r\n",
      "confdump.19900.data    confdump.5000.data   confdump.80200.data\r\n",
      "confdump.2000000.data  confdump.500.data    confdump.80300.data\r\n",
      "confdump.20000.data    confdump.50100.data  confdump.80400.data\r\n",
      "confdump.2000.data     confdump.50200.data  confdump.80500.data\r\n",
      "confdump.200.data      confdump.50300.data  confdump.80600.data\r\n",
      "confdump.20100.data    confdump.50400.data  confdump.80700.data\r\n",
      "confdump.20200.data    confdump.50500.data  confdump.80800.data\r\n",
      "confdump.20300.data    confdump.50600.data  confdump.80900.data\r\n",
      "confdump.20400.data    confdump.50700.data  confdump.81000.data\r\n",
      "confdump.20500.data    confdump.50800.data  confdump.8100.data\r\n",
      "confdump.20600.data    confdump.50900.data  confdump.81100.data\r\n",
      "confdump.20700.data    confdump.51000.data  confdump.81200.data\r\n",
      "confdump.20800.data    confdump.5100.data   confdump.81300.data\r\n",
      "confdump.20900.data    confdump.51100.data  confdump.81400.data\r\n",
      "confdump.21000.data    confdump.51200.data  confdump.81500.data\r\n",
      "confdump.2100.data     confdump.51300.data  confdump.81600.data\r\n",
      "confdump.21100.data    confdump.51400.data  confdump.81700.data\r\n",
      "confdump.21200.data    confdump.51500.data  confdump.81800.data\r\n",
      "confdump.21300.data    confdump.51600.data  confdump.81900.data\r\n",
      "confdump.21400.data    confdump.51700.data  confdump.82000.data\r\n",
      "confdump.21500.data    confdump.51800.data  confdump.8200.data\r\n",
      "confdump.21600.data    confdump.51900.data  confdump.82100.data\r\n",
      "confdump.21700.data    confdump.52000.data  confdump.82200.data\r\n",
      "confdump.21800.data    confdump.5200.data   confdump.82300.data\r\n",
      "confdump.21900.data    confdump.52100.data  confdump.82400.data\r\n",
      "confdump.22000.data    confdump.52200.data  confdump.82500.data\r\n",
      "confdump.2200.data     confdump.52300.data  confdump.82600.data\r\n",
      "confdump.22100.data    confdump.52400.data  confdump.82700.data\r\n",
      "confdump.22200.data    confdump.52500.data  confdump.82800.data\r\n",
      "confdump.22300.data    confdump.52600.data  confdump.82900.data\r\n",
      "confdump.22400.data    confdump.52700.data  confdump.83000.data\r\n",
      "confdump.22500.data    confdump.52800.data  confdump.8300.data\r\n",
      "confdump.22600.data    confdump.52900.data  confdump.83100.data\r\n",
      "confdump.22700.data    confdump.53000.data  confdump.83200.data\r\n",
      "confdump.22800.data    confdump.5300.data   confdump.83300.data\r\n",
      "confdump.22900.data    confdump.53100.data  confdump.83400.data\r\n",
      "confdump.23000.data    confdump.53200.data  confdump.83500.data\r\n",
      "confdump.2300.data     confdump.53300.data  confdump.83600.data\r\n",
      "confdump.23100.data    confdump.53400.data  confdump.83700.data\r\n",
      "confdump.23200.data    confdump.53500.data  confdump.83800.data\r\n",
      "confdump.23300.data    confdump.53600.data  confdump.83900.data\r\n",
      "confdump.23400.data    confdump.53700.data  confdump.84000.data\r\n",
      "confdump.23500.data    confdump.53800.data  confdump.8400.data\r\n",
      "confdump.23600.data    confdump.53900.data  confdump.84100.data\r\n",
      "confdump.23700.data    confdump.54000.data  confdump.84200.data\r\n",
      "confdump.23800.data    confdump.5400.data   confdump.84300.data\r\n",
      "confdump.23900.data    confdump.54100.data  confdump.84400.data\r\n",
      "confdump.24000.data    confdump.54200.data  confdump.84500.data\r\n",
      "confdump.2400.data     confdump.54300.data  confdump.84600.data\r\n",
      "confdump.24100.data    confdump.54400.data  confdump.84700.data\r\n",
      "confdump.24200.data    confdump.54500.data  confdump.84800.data\r\n",
      "confdump.24300.data    confdump.54600.data  confdump.84900.data\r\n",
      "confdump.24400.data    confdump.54700.data  confdump.85000.data\r\n",
      "confdump.24500.data    confdump.54800.data  confdump.8500.data\r\n",
      "confdump.24600.data    confdump.54900.data  confdump.85100.data\r\n",
      "confdump.24700.data    confdump.55000.data  confdump.85200.data\r\n",
      "confdump.24800.data    confdump.5500.data   confdump.85300.data\r\n",
      "confdump.24900.data    confdump.55100.data  confdump.85400.data\r\n",
      "confdump.25000.data    confdump.55200.data  confdump.85500.data\r\n",
      "confdump.2500.data     confdump.55300.data  confdump.85600.data\r\n",
      "confdump.25100.data    confdump.55400.data  confdump.85700.data\r\n",
      "confdump.25200.data    confdump.55500.data  confdump.85800.data\r\n",
      "confdump.25300.data    confdump.55600.data  confdump.85900.data\r\n",
      "confdump.25400.data    confdump.55700.data  confdump.86000.data\r\n",
      "confdump.25500.data    confdump.55800.data  confdump.8600.data\r\n",
      "confdump.25600.data    confdump.55900.data  confdump.86100.data\r\n",
      "confdump.25700.data    confdump.56000.data  confdump.86200.data\r\n",
      "confdump.25800.data    confdump.5600.data   confdump.86300.data\r\n",
      "confdump.25900.data    confdump.56100.data  confdump.86400.data\r\n",
      "confdump.26000.data    confdump.56200.data  confdump.86500.data\r\n",
      "confdump.2600.data     confdump.56300.data  confdump.86600.data\r\n",
      "confdump.26100.data    confdump.56400.data  confdump.86700.data\r\n",
      "confdump.26200.data    confdump.56500.data  confdump.86800.data\r\n",
      "confdump.26300.data    confdump.56600.data  confdump.86900.data\r\n",
      "confdump.26400.data    confdump.56700.data  confdump.87000.data\r\n",
      "confdump.26500.data    confdump.56800.data  confdump.8700.data\r\n",
      "confdump.26600.data    confdump.56900.data  confdump.87100.data\r\n",
      "confdump.26700.data    confdump.57000.data  confdump.87200.data\r\n",
      "confdump.26800.data    confdump.5700.data   confdump.87300.data\r\n",
      "confdump.26900.data    confdump.57100.data  confdump.87400.data\r\n",
      "confdump.27000.data    confdump.57200.data  confdump.87500.data\r\n",
      "confdump.2700.data     confdump.57300.data  confdump.87600.data\r\n",
      "confdump.27100.data    confdump.57400.data  confdump.87700.data\r\n",
      "confdump.27200.data    confdump.57500.data  confdump.87800.data\r\n",
      "confdump.27300.data    confdump.57600.data  confdump.87900.data\r\n",
      "confdump.27400.data    confdump.57700.data  confdump.88000.data\r\n",
      "confdump.27500.data    confdump.57800.data  confdump.8800.data\r\n",
      "confdump.27600.data    confdump.57900.data  confdump.88100.data\r\n",
      "confdump.27700.data    confdump.58000.data  confdump.88200.data\r\n",
      "confdump.27800.data    confdump.5800.data   confdump.88300.data\r\n",
      "confdump.27900.data    confdump.58100.data  confdump.88400.data\r\n",
      "confdump.28000.data    confdump.58200.data  confdump.88500.data\r\n",
      "confdump.2800.data     confdump.58300.data  confdump.88600.data\r\n",
      "confdump.28100.data    confdump.58400.data  confdump.88700.data\r\n",
      "confdump.28200.data    confdump.58500.data  confdump.88800.data\r\n",
      "confdump.28300.data    confdump.58600.data  confdump.88900.data\r\n",
      "confdump.28400.data    confdump.58700.data  confdump.89000.data\r\n",
      "confdump.28500.data    confdump.58800.data  confdump.8900.data\r\n",
      "confdump.28600.data    confdump.58900.data  confdump.89100.data\r\n",
      "confdump.28700.data    confdump.59000.data  confdump.89200.data\r\n",
      "confdump.28800.data    confdump.5900.data   confdump.89300.data\r\n",
      "confdump.28900.data    confdump.59100.data  confdump.89400.data\r\n",
      "confdump.29000.data    confdump.59200.data  confdump.89500.data\r\n",
      "confdump.2900.data     confdump.59300.data  confdump.89600.data\r\n",
      "confdump.29100.data    confdump.59400.data  confdump.89700.data\r\n",
      "confdump.29200.data    confdump.59500.data  confdump.89800.data\r\n",
      "confdump.29300.data    confdump.59600.data  confdump.89900.data\r\n",
      "confdump.29400.data    confdump.59700.data  confdump.90000.data\r\n",
      "confdump.29500.data    confdump.59800.data  confdump.9000.data\r\n",
      "confdump.29600.data    confdump.59900.data  confdump.900.data\r\n",
      "confdump.29700.data    confdump.60000.data  confdump.90100.data\r\n",
      "confdump.29800.data    confdump.6000.data   confdump.90200.data\r\n",
      "confdump.29900.data    confdump.600.data    confdump.90300.data\r\n",
      "confdump.30000.data    confdump.60100.data  confdump.90400.data\r\n",
      "confdump.3000.data     confdump.60200.data  confdump.90500.data\r\n",
      "confdump.300.data      confdump.60300.data  confdump.90600.data\r\n",
      "confdump.30100.data    confdump.60400.data  confdump.90700.data\r\n",
      "confdump.30200.data    confdump.60500.data  confdump.90800.data\r\n",
      "confdump.30300.data    confdump.60600.data  confdump.90900.data\r\n",
      "confdump.30400.data    confdump.60700.data  confdump.91000.data\r\n",
      "confdump.30500.data    confdump.60800.data  confdump.9100.data\r\n",
      "confdump.30600.data    confdump.60900.data  confdump.91100.data\r\n",
      "confdump.30700.data    confdump.61000.data  confdump.91200.data\r\n",
      "confdump.30800.data    confdump.6100.data   confdump.91300.data\r\n",
      "confdump.30900.data    confdump.61100.data  confdump.91400.data\r\n",
      "confdump.31000.data    confdump.61200.data  confdump.91500.data\r\n",
      "confdump.3100.data     confdump.61300.data  confdump.91600.data\r\n",
      "confdump.31100.data    confdump.61400.data  confdump.91700.data\r\n",
      "confdump.31200.data    confdump.61500.data  confdump.91800.data\r\n",
      "confdump.31300.data    confdump.61600.data  confdump.91900.data\r\n",
      "confdump.31400.data    confdump.61700.data  confdump.92000.data\r\n",
      "confdump.31500.data    confdump.61800.data  confdump.9200.data\r\n",
      "confdump.31600.data    confdump.61900.data  confdump.92100.data\r\n",
      "confdump.31700.data    confdump.62000.data  confdump.92200.data\r\n",
      "confdump.31800.data    confdump.6200.data   confdump.92300.data\r\n",
      "confdump.31900.data    confdump.62100.data  confdump.92400.data\r\n",
      "confdump.32000.data    confdump.62200.data  confdump.92500.data\r\n",
      "confdump.3200.data     confdump.62300.data  confdump.92600.data\r\n",
      "confdump.32100.data    confdump.62400.data  confdump.92700.data\r\n",
      "confdump.32200.data    confdump.62500.data  confdump.92800.data\r\n",
      "confdump.32300.data    confdump.62600.data  confdump.92900.data\r\n",
      "confdump.32400.data    confdump.62700.data  confdump.93000.data\r\n",
      "confdump.32500.data    confdump.62800.data  confdump.9300.data\r\n",
      "confdump.32600.data    confdump.62900.data  confdump.93100.data\r\n",
      "confdump.32700.data    confdump.63000.data  confdump.93200.data\r\n",
      "confdump.32800.data    confdump.6300.data   confdump.93300.data\r\n",
      "confdump.32900.data    confdump.63100.data  confdump.93400.data\r\n",
      "confdump.33000.data    confdump.63200.data  confdump.93500.data\r\n",
      "confdump.3300.data     confdump.63300.data  confdump.93600.data\r\n",
      "confdump.33100.data    confdump.63400.data  confdump.93700.data\r\n",
      "confdump.33200.data    confdump.63500.data  confdump.93800.data\r\n",
      "confdump.33300.data    confdump.63600.data  confdump.93900.data\r\n",
      "confdump.33400.data    confdump.63700.data  confdump.94000.data\r\n",
      "confdump.33500.data    confdump.63800.data  confdump.9400.data\r\n",
      "confdump.33600.data    confdump.63900.data  confdump.94100.data\r\n",
      "confdump.33700.data    confdump.64000.data  confdump.94200.data\r\n",
      "confdump.33800.data    confdump.6400.data   confdump.94300.data\r\n",
      "confdump.33900.data    confdump.64100.data  confdump.94400.data\r\n",
      "confdump.34000.data    confdump.64200.data  confdump.94500.data\r\n",
      "confdump.3400.data     confdump.64300.data  confdump.94600.data\r\n",
      "confdump.34100.data    confdump.64400.data  confdump.94700.data\r\n",
      "confdump.34200.data    confdump.64500.data  confdump.94800.data\r\n",
      "confdump.34300.data    confdump.64600.data  confdump.94900.data\r\n",
      "confdump.34400.data    confdump.64700.data  confdump.95000.data\r\n",
      "confdump.34500.data    confdump.64800.data  confdump.9500.data\r\n",
      "confdump.34600.data    confdump.64900.data  confdump.95100.data\r\n",
      "confdump.34700.data    confdump.65000.data  confdump.95200.data\r\n",
      "confdump.34800.data    confdump.6500.data   confdump.95300.data\r\n",
      "confdump.34900.data    confdump.65100.data  confdump.95400.data\r\n",
      "confdump.35000.data    confdump.65200.data  confdump.95500.data\r\n",
      "confdump.3500.data     confdump.65300.data  confdump.95600.data\r\n",
      "confdump.35100.data    confdump.65400.data  confdump.95700.data\r\n",
      "confdump.35200.data    confdump.65500.data  confdump.95800.data\r\n",
      "confdump.35300.data    confdump.65600.data  confdump.95900.data\r\n",
      "confdump.35400.data    confdump.65700.data  confdump.96000.data\r\n",
      "confdump.35500.data    confdump.65800.data  confdump.9600.data\r\n",
      "confdump.35600.data    confdump.65900.data  confdump.96100.data\r\n",
      "confdump.35700.data    confdump.66000.data  confdump.96200.data\r\n",
      "confdump.35800.data    confdump.6600.data   confdump.96300.data\r\n",
      "confdump.35900.data    confdump.66100.data  confdump.96400.data\r\n",
      "confdump.36000.data    confdump.66200.data  confdump.96500.data\r\n",
      "confdump.3600.data     confdump.66300.data  confdump.96600.data\r\n",
      "confdump.36100.data    confdump.66400.data  confdump.96700.data\r\n",
      "confdump.36200.data    confdump.66500.data  confdump.96800.data\r\n",
      "confdump.36300.data    confdump.66600.data  confdump.96900.data\r\n",
      "confdump.36400.data    confdump.66700.data  confdump.97000.data\r\n",
      "confdump.36500.data    confdump.66800.data  confdump.9700.data\r\n",
      "confdump.36600.data    confdump.66900.data  confdump.97100.data\r\n",
      "confdump.36700.data    confdump.67000.data  confdump.97200.data\r\n",
      "confdump.36800.data    confdump.6700.data   confdump.97300.data\r\n",
      "confdump.36900.data    confdump.67100.data  confdump.97400.data\r\n",
      "confdump.37000.data    confdump.67200.data  confdump.97500.data\r\n",
      "confdump.3700.data     confdump.67300.data  confdump.97600.data\r\n",
      "confdump.37100.data    confdump.67400.data  confdump.97700.data\r\n",
      "confdump.37200.data    confdump.67500.data  confdump.97800.data\r\n",
      "confdump.37300.data    confdump.67600.data  confdump.97900.data\r\n",
      "confdump.37400.data    confdump.67700.data  confdump.98000.data\r\n",
      "confdump.37500.data    confdump.67800.data  confdump.9800.data\r\n",
      "confdump.37600.data    confdump.67900.data  confdump.98100.data\r\n",
      "confdump.37700.data    confdump.68000.data  confdump.98200.data\r\n",
      "confdump.37800.data    confdump.6800.data   confdump.98300.data\r\n",
      "confdump.37900.data    confdump.68100.data  confdump.98400.data\r\n",
      "confdump.38000.data    confdump.68200.data  confdump.98500.data\r\n",
      "confdump.3800.data     confdump.68300.data  confdump.98600.data\r\n",
      "confdump.38100.data    confdump.68400.data  confdump.98700.data\r\n",
      "confdump.38200.data    confdump.68500.data  confdump.98800.data\r\n",
      "confdump.38300.data    confdump.68600.data  confdump.98900.data\r\n",
      "confdump.38400.data    confdump.68700.data  confdump.99000.data\r\n",
      "confdump.38500.data    confdump.68800.data  confdump.9900.data\r\n",
      "confdump.38600.data    confdump.68900.data  confdump.99100.data\r\n",
      "confdump.38700.data    confdump.69000.data  confdump.99200.data\r\n",
      "confdump.38800.data    confdump.6900.data   confdump.99300.data\r\n",
      "confdump.38900.data    confdump.69100.data  confdump.99400.data\r\n",
      "confdump.39000.data    confdump.69200.data  confdump.99500.data\r\n",
      "confdump.3900.data     confdump.69300.data  confdump.99600.data\r\n",
      "confdump.39100.data    confdump.69400.data  confdump.99700.data\r\n",
      "confdump.39200.data    confdump.69500.data  confdump.99800.data\r\n",
      "confdump.39300.data    confdump.69600.data  confdump.99900.data\r\n",
      "confdump.39400.data    confdump.69700.data  initconf_T05eq.data\r\n",
      "confdump.39500.data    confdump.69800.data  ka-lj-nvt.in\r\n",
      "confdump.39600.data    confdump.69900.data  log.lammps\r\n",
      "confdump.39700.data    confdump.70000.data  \u001b[0m\u001b[38;5;27mminimize\u001b[0m/\r\n",
      "confdump.39800.data    confdump.7000.data   minimize.in\r\n",
      "confdump.39900.data    confdump.700.data\r\n"
     ]
    }
   ],
   "source": [
    "ls"
   ]
  },
  {
   "cell_type": "code",
   "execution_count": 7,
   "metadata": {},
   "outputs": [
    {
     "name": "stdout",
     "output_type": "stream",
     "text": [
      "Populating the interactive namespace from numpy and matplotlib\n"
     ]
    }
   ],
   "source": [
    "import os\n",
    "%pylab inline"
   ]
  },
  {
   "cell_type": "code",
   "execution_count": 29,
   "metadata": {},
   "outputs": [],
   "source": [
    "def read_confdump_xyz_to_array(fileName,nAtoms=1000):\n",
    "    '''Lammps confdump flies contain last \"nAtoms\" lines of the file the positions'''\n",
    "    cmd = \"tail -\"+str(nAtoms)+\" \"+fileName+\" > tmp\"\n",
    "    print(cmd)\n",
    "    os.system(cmd)\n",
    "    a1 = loadtxt('tmp')[:,2:5]\n",
    "    return a1"
   ]
  },
  {
   "cell_type": "code",
   "execution_count": null,
   "metadata": {},
   "outputs": [],
   "source": []
  },
  {
   "cell_type": "code",
   "execution_count": 30,
   "metadata": {},
   "outputs": [
    {
     "name": "stdout",
     "output_type": "stream",
     "text": [
      "tail -1000 /home/prabhakar/Projects/glass/md2/confdump-files/confdump.99900.data > tmp\n"
     ]
    }
   ],
   "source": [
    "a1 = read_confdump_xyz_to_array(\"/home/prabhakar/Projects/glass/md2/confdump-files/confdump.99900.data\")"
   ]
  },
  {
   "cell_type": "code",
   "execution_count": 25,
   "metadata": {},
   "outputs": [
    {
     "name": "stdout",
     "output_type": "stream",
     "text": [
      "tail -1000 /home/prabhakar/Projects/glass/md2/confdump-files/confdump.100000.data > tmp\n"
     ]
    }
   ],
   "source": [
    "a2 = read_confdump_xyz_to_array(\"/home/prabhakar/Projects/glass/md2/confdump-files/confdump.100000.data\")"
   ]
  },
  {
   "cell_type": "code",
   "execution_count": 19,
   "metadata": {},
   "outputs": [],
   "source": [
    "boxLength = 9.4"
   ]
  },
  {
   "cell_type": "code",
   "execution_count": 26,
   "metadata": {},
   "outputs": [],
   "source": [
    "def distance_twoConfs(a1,a2, boxLength):\n",
    "    dist = a1-a2\n",
    "    dist -= boxLength*np.rint(dist/boxLength)\n",
    "    plot(np.linalg.norm(dist, axis=1))\n",
    "    print( np.where ( np.linalg.norm(dist,axis=1) > 1.0))\n",
    "    return"
   ]
  },
  {
   "cell_type": "code",
   "execution_count": 28,
   "metadata": {},
   "outputs": [
    {
     "name": "stdout",
     "output_type": "stream",
     "text": [
      "(array([], dtype=int64),)\n"
     ]
    },
    {
     "data": {
      "image/png": "[encoded data removed]",
      "text/plain": [
       "<Figure size 432x288 with 1 Axes>"
      ]
     },
     "metadata": {
      "needs_background": "light"
     },
     "output_type": "display_data"
    }
   ],
   "source": [
    "distance_twoConfs(a1,a2,boxLength=9.4)"
   ]
  },
  {
   "cell_type": "code",
   "execution_count": 10,
   "metadata": {},
   "outputs": [],
   "source": [
    "def distance_twoConfs_byIndex(i1, i2, boxLength):\n",
    "    conf=[]\n",
    "    for i in [i1,i2]:\n",
    "        fileName = \"confdump.\"+str(i)+\".data\"\n",
    "        conf.append( read_confdump_xyz_to_array(fileName=fileName) )\n",
    "        \n",
    "    distance_twoConfs(conf[0],conf[1],boxLength)"
   ]
  },
  {
   "cell_type": "code",
   "execution_count": 11,
   "metadata": {},
   "outputs": [],
   "source": [
    "def distance_twoConfs_byFileNames(i1, i2, boxLength):\n",
    "    conf=[]\n",
    "    for i in [i1,i2]:\n",
    "        fileName = i\n",
    "        conf.append( read_confdump_xyz_to_array(fileName=fileName) )\n",
    "        \n",
    "    distance_twoConfs(conf[0],conf[1],boxLength)"
   ]
  },
  {
   "cell_type": "code",
   "execution_count": 32,
   "metadata": {
    "scrolled": true
   },
   "outputs": [
    {
     "data": {
      "image/png": "[encoded data removed]",
      "text/plain": [
       "<Figure size 432x288 with 1 Axes>"
      ]
     },
     "metadata": {
      "needs_background": "light"
     },
     "output_type": "display_data"
    }
   ],
   "source": [
    "distance_twoConfs_byIndex(97000,98000,boxLength)"
   ]
  },
  {
   "cell_type": "code",
   "execution_count": 34,
   "metadata": {},
   "outputs": [
    {
     "name": "stdout",
     "output_type": "stream",
     "text": [
      "/home/prabhakar/Projects/glass/md2/minimize\n"
     ]
    }
   ],
   "source": [
    "cd minimize/"
   ]
  },
  {
   "cell_type": "code",
   "execution_count": 37,
   "metadata": {},
   "outputs": [
    {
     "name": "stdout",
     "output_type": "stream",
     "text": [
      "(array([886]),)\n"
     ]
    },
    {
     "data": {
      "image/png": "[encoded data removed]",
      "text/plain": [
       "<Figure size 432x288 with 1 Axes>"
      ]
     },
     "metadata": {
      "needs_background": "light"
     },
     "output_type": "display_data"
    }
   ],
   "source": [
    "distance_twoConfs_byIndex(97057,98044,boxLength)"
   ]
  },
  {
   "cell_type": "markdown",
   "metadata": {},
   "source": []
  },
  {
   "cell_type": "code",
   "execution_count": 39,
   "metadata": {},
   "outputs": [],
   "source": [
    "b1 = read_confdump_xyz_to_array('confdump.97057.data')"
   ]
  },
  {
   "cell_type": "code",
   "execution_count": 40,
   "metadata": {},
   "outputs": [],
   "source": [
    "b2 = read_confdump_xyz_to_array('confdump.98044.data')"
   ]
  },
  {
   "cell_type": "code",
   "execution_count": 43,
   "metadata": {},
   "outputs": [
    {
     "data": {
      "text/plain": [
       "(array([ 74, 121, 176, 178, 377, 406, 437, 524, 530, 602, 607, 692, 700,\n",
       "        704, 720, 736, 770, 783, 786, 886, 902, 946]),)"
      ]
     },
     "execution_count": 43,
     "metadata": {},
     "output_type": "execute_result"
    }
   ],
   "source": [
    "np.where(np.linalg.norm(b1-b2,axis=1)>1)"
   ]
  },
  {
   "cell_type": "code",
   "execution_count": 4,
   "metadata": {},
   "outputs": [
    {
     "data": {
      "text/plain": [
       "'/home/prabhakar/Projects'"
      ]
     },
     "execution_count": 4,
     "metadata": {},
     "output_type": "execute_result"
    }
   ],
   "source": [
    "pwd"
   ]
  },
  {
   "cell_type": "code",
   "execution_count": 5,
   "metadata": {},
   "outputs": [
    {
     "name": "stdout",
     "output_type": "stream",
     "text": [
      "/home/prabhakar/Projects/glass\n"
     ]
    }
   ],
   "source": [
    "cd glass/\n"
   ]
  },
  {
   "cell_type": "code",
   "execution_count": 6,
   "metadata": {},
   "outputs": [
    {
     "name": "stdout",
     "output_type": "stream",
     "text": [
      "confdump.0.data      glss-displacement.ipynb     log.lammps\r\n",
      "confdump.20043.data  initconf_T05eq.data         \u001b[0m\u001b[38;5;27mmd1\u001b[0m/\r\n",
      "confdump.20045.data  initconf_T05eq.data.BKP     \u001b[38;5;27mmd2\u001b[0m/\r\n",
      "confdump.20046.data  initconf_T05eq.data.test    \u001b[38;5;27mminimize\u001b[0m/\r\n",
      "confdump.20066.data  initconf_T05eq.data.test.2\r\n",
      "confdump.80.data     ka-lj-nvt.in\r\n"
     ]
    }
   ],
   "source": [
    "ls"
   ]
  },
  {
   "cell_type": "code",
   "execution_count": 7,
   "metadata": {},
   "outputs": [],
   "source": [
    "a1= read_confdump_xyz_to_array('/home/prabhakar/Downloads/min_config.0.data')"
   ]
  },
  {
   "cell_type": "code",
   "execution_count": 8,
   "metadata": {},
   "outputs": [],
   "source": [
    "a2 = read_confdump_xyz_to_array('/home/prabhakar/Downloads/min_config.1.data')"
   ]
  },
  {
   "cell_type": "code",
   "execution_count": 9,
   "metadata": {},
   "outputs": [
    {
     "name": "stdout",
     "output_type": "stream",
     "text": [
      "(array([  3,  11,  16,  25,  30,  34,  35,  36,  41,  42,  47,  53,  60,\n",
      "        66,  74,  77,  87,  93, 106, 111, 115, 122, 130, 131, 138, 143,\n",
      "       150, 153, 165, 166, 172, 180, 186, 187, 200, 217, 222, 223, 232,\n",
      "       233, 237, 240, 255, 264, 265, 269, 274, 275, 276, 282, 285, 289,\n",
      "       295, 296, 297, 299, 305, 317, 319, 324, 335, 346, 350, 354, 375,\n",
      "       379, 386, 397, 398, 399, 401, 402, 405, 406, 420, 423, 427, 429,\n",
      "       430, 433, 443, 444, 451, 457, 460, 464, 465, 466, 467, 470, 477,\n",
      "       482, 489, 490, 496, 501, 506, 509, 512, 513, 520, 526, 530, 531,\n",
      "       533, 537, 540, 543, 546, 552, 553, 555, 566, 569, 578, 579, 580,\n",
      "       587, 598, 612, 613, 614, 626, 627, 646, 652, 658, 669, 670, 673,\n",
      "       674, 677, 678, 689, 700, 718, 719, 721, 729, 733, 735, 739, 740,\n",
      "       748, 749, 756, 758, 760, 761, 783, 790, 801, 804, 814, 818, 828,\n",
      "       840, 843, 847, 855, 856, 858, 864, 866, 868, 879, 883, 888, 892,\n",
      "       898, 920, 922, 928, 934, 937, 943, 953, 959, 966, 967, 968, 972,\n",
      "       979, 987, 988, 990, 991, 996, 998]),)\n"
     ]
    },
    {
     "data": {
      "image/png": "[encoded data removed]",
      "text/plain": [
       "<Figure size 432x288 with 1 Axes>"
      ]
     },
     "metadata": {
      "needs_background": "light"
     },
     "output_type": "display_data"
    }
   ],
   "source": [
    "distance_twoConfs(a1,a2,boxLength=9.4)"
   ]
  },
  {
   "cell_type": "code",
   "execution_count": null,
   "metadata": {},
   "outputs": [],
   "source": []
  },
  {
   "cell_type": "code",
   "execution_count": 27,
   "metadata": {},
   "outputs": [
    {
     "ename": "SyntaxError",
     "evalue": "invalid syntax (<ipython-input-27-01b747f2d6dc>, line 2)",
     "output_type": "error",
     "traceback": [
      "\u001b[0;36m  File \u001b[0;32m\"<ipython-input-27-01b747f2d6dc>\"\u001b[0;36m, line \u001b[0;32m2\u001b[0m\n\u001b[0;31m    os.system(export L)\u001b[0m\n\u001b[0m                     ^\u001b[0m\n\u001b[0;31mSyntaxError\u001b[0m\u001b[0;31m:\u001b[0m invalid syntax\n"
     ]
    }
   ],
   "source": [
    "a=os.system('export LD_LIBRARY_PATH=$LD_LIBRARY_PATH:/home/prabhakar/.local/lib64/')\n",
    "os.system(export L)"
   ]
  },
  {
   "cell_type": "code",
   "execution_count": 3,
   "metadata": {},
   "outputs": [
    {
     "name": "stdout",
     "output_type": "stream",
     "text": [
      "/home/prabhakar/Projects/glass/md3/minimize\n"
     ]
    }
   ],
   "source": [
    "cd /home/prabhakar/Projects/glass/md3/minimize/"
   ]
  },
  {
   "cell_type": "code",
   "execution_count": null,
   "metadata": {},
   "outputs": [],
   "source": [
    "# get fileneame\n",
    "# split to get the index\n",
    "\n",
    "# prepare lammps input file\n",
    "# run minimization\n"
   ]
  },
  {
   "cell_type": "code",
   "execution_count": 14,
   "metadata": {
    "scrolled": true
   },
   "outputs": [
    {
     "name": "stdout",
     "output_type": "stream",
     "text": [
      "../confdump-files/confdump.10.data echo \"read_dump ../confdump-files/confdump.10.data 10 $n x y z #read dump file\" > min-f3\n"
     ]
    }
   ],
   "source": [
    "# run minimisation for multiple files\n",
    "idx_end = 20000\n",
    "idx_end=1000\n",
    "for idx in range(10,idx_end,1000):\n",
    "    fn = '../confdump-files/confdump.'+str(idx)+'.data'\n",
    "    cmd = 'echo \"read_dump '+fn+' '+str(idx)+' $n x y z #read dump file\" > min-f3' \n",
    "    os.system(cmd)\n",
    "    print(fn, cmd)\n",
    "    os.system('cat min-f1 min-f3 min-f2 > minimize-run.in')\n",
    "    os.system('lmp -in minimize-run.in')\n",
    "    \n",
    "    "
   ]
  },
  {
   "cell_type": "code",
   "execution_count": 19,
   "metadata": {},
   "outputs": [
    {
     "data": {
      "text/plain": [
       "'/home/prabhakar/Projects/glass'"
      ]
     },
     "execution_count": 19,
     "metadata": {},
     "output_type": "execute_result"
    }
   ],
   "source": [
    "os.system()"
   ]
  },
  {
   "cell_type": "code",
   "execution_count": 16,
   "metadata": {},
   "outputs": [
    {
     "name": "stdout",
     "output_type": "stream",
     "text": [
      "(array([], dtype=int64),)\n"
     ]
    },
    {
     "data": {
      "image/png": "[encoded data removed]",
      "text/plain": [
       "<Figure size 432x288 with 1 Axes>"
      ]
     },
     "metadata": {
      "needs_background": "light"
     },
     "output_type": "display_data"
    }
   ],
   "source": [
    "b1 = distance_twoConfs_byFileNames('confdump_min.186.data','confdump_min.65.data',boxLength=9.4)"
   ]
  },
  {
   "cell_type": "code",
   "execution_count": 13,
   "metadata": {},
   "outputs": [
    {
     "name": "stdout",
     "output_type": "stream",
     "text": [
      "(array([], dtype=int64),)\n"
     ]
    },
    {
     "data": {
      "image/png": "[encoded data removed]",
      "text/plain": [
       "<Figure size 432x288 with 1 Axes>"
      ]
     },
     "metadata": {
      "needs_background": "light"
     },
     "output_type": "display_data"
    }
   ],
   "source": [
    "distance_twoConfs_byFileNames('../confdump-files/confdump.0.data','../confdump-files/confdump.100.data',boxLength=9.4)"
   ]
  },
  {
   "cell_type": "code",
   "execution_count": 31,
   "metadata": {},
   "outputs": [
    {
     "name": "stdout",
     "output_type": "stream",
     "text": [
      "tail -1000 confdump_min.65.data > tmp\n",
      "tail -1000 confdump_min.186.data > tmp\n",
      "(array([], dtype=int64),)\n"
     ]
    },
    {
     "data": {
      "image/png": "[encoded data removed]",
      "text/plain": [
       "<Figure size 432x288 with 1 Axes>"
      ]
     },
     "metadata": {
      "needs_background": "light"
     },
     "output_type": "display_data"
    }
   ],
   "source": [
    "b1 = distance_twoConfs_byFileNames('confdump_min.65.data','confdump_min.186.data',boxLength=9.4)"
   ]
  },
  {
   "cell_type": "code",
   "execution_count": null,
   "metadata": {},
   "outputs": [],
   "source": []
  }
 ],
 "metadata": {
  "kernelspec": {
   "display_name": "py3",
   "language": "python",
   "name": "py3"
  },
  "language_info": {
   "codemirror_mode": {
    "name": "ipython",
    "version": 3
   },
   "file_extension": ".py",
   "mimetype": "text/x-python",
   "name": "python",
   "nbconvert_exporter": "python",
   "pygments_lexer": "ipython3",
   "version": "3.5.6"
  }
 },
 "nbformat": 4,
 "nbformat_minor": 2
}
